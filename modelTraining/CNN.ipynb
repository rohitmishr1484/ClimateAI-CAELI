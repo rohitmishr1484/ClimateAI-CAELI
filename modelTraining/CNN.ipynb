{
 "cells": [
  {
   "cell_type": "code",
   "execution_count": 1,
   "metadata": {
    "collapsed": true
   },
   "outputs": [
    {
     "name": "stderr",
     "output_type": "stream",
     "text": [
      "Using TensorFlow backend.\n",
      "C:\\Users\\Rohit.Mishra\\AppData\\Roaming\\Python\\Python36\\site-packages\\tensorflow\\python\\framework\\dtypes.py:523: FutureWarning: Passing (type, 1) or '1type' as a synonym of type is deprecated; in a future version of numpy, it will be understood as (type, (1,)) / '(1,)type'.\n",
      "  _np_qint8 = np.dtype([(\"qint8\", np.int8, 1)])\n",
      "C:\\Users\\Rohit.Mishra\\AppData\\Roaming\\Python\\Python36\\site-packages\\tensorflow\\python\\framework\\dtypes.py:524: FutureWarning: Passing (type, 1) or '1type' as a synonym of type is deprecated; in a future version of numpy, it will be understood as (type, (1,)) / '(1,)type'.\n",
      "  _np_quint8 = np.dtype([(\"quint8\", np.uint8, 1)])\n",
      "C:\\Users\\Rohit.Mishra\\AppData\\Roaming\\Python\\Python36\\site-packages\\tensorflow\\python\\framework\\dtypes.py:525: FutureWarning: Passing (type, 1) or '1type' as a synonym of type is deprecated; in a future version of numpy, it will be understood as (type, (1,)) / '(1,)type'.\n",
      "  _np_qint16 = np.dtype([(\"qint16\", np.int16, 1)])\n",
      "C:\\Users\\Rohit.Mishra\\AppData\\Roaming\\Python\\Python36\\site-packages\\tensorflow\\python\\framework\\dtypes.py:526: FutureWarning: Passing (type, 1) or '1type' as a synonym of type is deprecated; in a future version of numpy, it will be understood as (type, (1,)) / '(1,)type'.\n",
      "  _np_quint16 = np.dtype([(\"quint16\", np.uint16, 1)])\n",
      "C:\\Users\\Rohit.Mishra\\AppData\\Roaming\\Python\\Python36\\site-packages\\tensorflow\\python\\framework\\dtypes.py:527: FutureWarning: Passing (type, 1) or '1type' as a synonym of type is deprecated; in a future version of numpy, it will be understood as (type, (1,)) / '(1,)type'.\n",
      "  _np_qint32 = np.dtype([(\"qint32\", np.int32, 1)])\n",
      "C:\\Users\\Rohit.Mishra\\AppData\\Roaming\\Python\\Python36\\site-packages\\tensorflow\\python\\framework\\dtypes.py:532: FutureWarning: Passing (type, 1) or '1type' as a synonym of type is deprecated; in a future version of numpy, it will be understood as (type, (1,)) / '(1,)type'.\n",
      "  np_resource = np.dtype([(\"resource\", np.ubyte, 1)])\n"
     ]
    }
   ],
   "source": [
    "import pandas as pd\n",
    "import numpy as np\n",
    "import matplotlib.pyplot as plt\n",
    "%matplotlib inline\n",
    "import keras\n",
    "from keras.datasets import mnist\n",
    "from keras.models import Sequential\n",
    "from keras.layers import Dense, Dropout, Activation, Flatten\n",
    "from keras.optimizers import Adam\n",
    "from keras.layers.normalization import BatchNormalization\n",
    "from keras.utils import np_utils\n",
    "from keras.layers import Conv2D, MaxPooling2D, ZeroPadding2D, GlobalAveragePooling2D\n",
    "from keras.layers.advanced_activations import LeakyReLU \n",
    "from keras.preprocessing.image import ImageDataGenerator\n",
    "from os.path import join as pjoin\n",
    "from os import path\n",
    "from PIL import Image\n",
    "\n",
    "np.random.seed(25)"
   ]
  },
  {
   "cell_type": "code",
   "execution_count": 2,
   "metadata": {},
   "outputs": [],
   "source": [
    "image_folder_name = \"images\"\n",
    "label_path = './module_metadata.json'"
   ]
  },
  {
   "cell_type": "code",
   "execution_count": 3,
   "metadata": {},
   "outputs": [
    {
     "name": "stdout",
     "output_type": "stream",
     "text": [
      "images folder is available\n",
      "images is a directory!! Safe to proceed.\n"
     ]
    }
   ],
   "source": [
    "if path.exists(image_folder_name):\n",
    "    print(\"{} folder is available\".format(image_folder_name))\n",
    "    if path.isdir(image_folder_name):\n",
    "        print(\"{} is a directory!! Safe to proceed.\".format(image_folder_name))\n",
    "    else:\n",
    "        raise ValueError(\"{} should be a directory but it is not, please verify!\".format(image_folder_name))\n",
    "else:\n",
    "    raise ValueError(\"{} folder does not exist\".format(image_folder_name))"
   ]
  },
  {
   "cell_type": "code",
   "execution_count": 4,
   "metadata": {},
   "outputs": [],
   "source": [
    "def read_image(img_path = None):\n",
    "    \n",
    "    relative_image_path = pjoin('./', img_path) \n",
    "    \n",
    "    img = Image.open(relative_image_path)\n",
    "    \n",
    "    if img.size != (24,40):\n",
    "        raise ValueError(\"{} image needs resizing\".format(img_path))\n",
    "    \n",
    "    arr = np.array(img)\n",
    "    \n",
    "    arr = arr.reshape((arr.shape[0], arr.shape[1], 1))\n",
    "    \n",
    "    return arr"
   ]
  },
  {
   "cell_type": "code",
   "execution_count": 5,
   "metadata": {},
   "outputs": [],
   "source": [
    "label_path = './module_metadata.json'"
   ]
  },
  {
   "cell_type": "code",
   "execution_count": 6,
   "metadata": {},
   "outputs": [
    {
     "name": "stdout",
     "output_type": "stream",
     "text": [
      "./module_metadata.json is present\n",
      "./module_metadata.json is a JSON file!! Safe to proceed.\n"
     ]
    }
   ],
   "source": [
    "if path.exists(label_path):\n",
    "    print(\"{} is present\".format(label_path))\n",
    "    if 'json' in label_path:\n",
    "        print(\"{} is a JSON file!! Safe to proceed.\".format(label_path))\n",
    "    else:\n",
    "        raise ValueError(\"{} should be a JSON but it is not, please verify!\".format(label_path))\n",
    "else:\n",
    "    raise ValueError(\"{} file does not exist\".format(label_path))"
   ]
  },
  {
   "cell_type": "code",
   "execution_count": 7,
   "metadata": {},
   "outputs": [],
   "source": [
    "label_df = pd.read_json(label_path, orient='index')"
   ]
  },
  {
   "cell_type": "code",
   "execution_count": 8,
   "metadata": {},
   "outputs": [
    {
     "data": {
      "text/html": [
       "<div>\n",
       "<style scoped>\n",
       "    .dataframe tbody tr th:only-of-type {\n",
       "        vertical-align: middle;\n",
       "    }\n",
       "\n",
       "    .dataframe tbody tr th {\n",
       "        vertical-align: top;\n",
       "    }\n",
       "\n",
       "    .dataframe thead th {\n",
       "        text-align: right;\n",
       "    }\n",
       "</style>\n",
       "<table border=\"1\" class=\"dataframe\">\n",
       "  <thead>\n",
       "    <tr style=\"text-align: right;\">\n",
       "      <th></th>\n",
       "      <th>image_filepath</th>\n",
       "      <th>anomaly_class</th>\n",
       "    </tr>\n",
       "  </thead>\n",
       "  <tbody>\n",
       "    <tr>\n",
       "      <th>13357</th>\n",
       "      <td>images/13357.jpg</td>\n",
       "      <td>No-Anomaly</td>\n",
       "    </tr>\n",
       "    <tr>\n",
       "      <th>13356</th>\n",
       "      <td>images/13356.jpg</td>\n",
       "      <td>No-Anomaly</td>\n",
       "    </tr>\n",
       "    <tr>\n",
       "      <th>19719</th>\n",
       "      <td>images/19719.jpg</td>\n",
       "      <td>No-Anomaly</td>\n",
       "    </tr>\n",
       "    <tr>\n",
       "      <th>11542</th>\n",
       "      <td>images/11542.jpg</td>\n",
       "      <td>No-Anomaly</td>\n",
       "    </tr>\n",
       "    <tr>\n",
       "      <th>11543</th>\n",
       "      <td>images/11543.jpg</td>\n",
       "      <td>No-Anomaly</td>\n",
       "    </tr>\n",
       "  </tbody>\n",
       "</table>\n",
       "</div>"
      ],
      "text/plain": [
       "         image_filepath anomaly_class\n",
       "13357  images/13357.jpg    No-Anomaly\n",
       "13356  images/13356.jpg    No-Anomaly\n",
       "19719  images/19719.jpg    No-Anomaly\n",
       "11542  images/11542.jpg    No-Anomaly\n",
       "11543  images/11543.jpg    No-Anomaly"
      ]
     },
     "execution_count": 8,
     "metadata": {},
     "output_type": "execute_result"
    }
   ],
   "source": [
    "label_df.head()"
   ]
  },
  {
   "cell_type": "code",
   "execution_count": 9,
   "metadata": {},
   "outputs": [],
   "source": [
    "from sklearn.model_selection import train_test_split\n",
    "\n",
    "X_train, X_test, y_train, y_test = train_test_split(label_df[['image_filepath']], \n",
    "                                                    label_df[['anomaly_class']], test_size=0.2, \\\n",
    "                                                    shuffle= True,random_state=42, stratify = label_df[['anomaly_class']])"
   ]
  },
  {
   "cell_type": "code",
   "execution_count": 10,
   "metadata": {},
   "outputs": [
    {
     "name": "stdout",
     "output_type": "stream",
     "text": [
      "Dimension of each image:(40, 24, 1)\n"
     ]
    }
   ],
   "source": [
    "import random\n",
    "random_number = random.randint(0,label_df.shape[0])\n",
    "print(\"Dimension of each image:{}\".format(read_image(img_path = label_df['image_filepath'][random_number]).shape))"
   ]
  },
  {
   "cell_type": "code",
   "execution_count": 11,
   "metadata": {},
   "outputs": [],
   "source": [
    "X_train_array = []\n",
    "for index, row in X_train.iterrows():\n",
    "    X_train_array.append(read_image(img_path = row['image_filepath']))\n",
    "\n",
    "X_train_array = np.array(X_train_array)"
   ]
  },
  {
   "cell_type": "code",
   "execution_count": 12,
   "metadata": {},
   "outputs": [],
   "source": [
    "X_test_array = []\n",
    "for index, row in X_test.iterrows():\n",
    "    X_test_array.append(read_image(img_path = row['image_filepath']))\n",
    "    \n",
    "X_test_array = np.array(X_test_array)"
   ]
  },
  {
   "cell_type": "code",
   "execution_count": 13,
   "metadata": {},
   "outputs": [
    {
     "data": {
      "text/plain": [
       "((15922, 40, 24, 1), (3981, 40, 24, 1))"
      ]
     },
     "execution_count": 13,
     "metadata": {},
     "output_type": "execute_result"
    }
   ],
   "source": [
    "np.array(X_train_array).shape, np.array(X_test_array).shape "
   ]
  },
  {
   "cell_type": "code",
   "execution_count": 14,
   "metadata": {},
   "outputs": [],
   "source": [
    "def encoding(array = None, _type = 'train', encod_l = None, encod_o = None):\n",
    "    \n",
    "    from sklearn.preprocessing import LabelEncoder\n",
    "    from sklearn.preprocessing import OneHotEncoder\n",
    "\n",
    "    if _type == 'train':\n",
    "        label_encoder = LabelEncoder()\n",
    "        onehot_encoder = OneHotEncoder(sparse=False)\n",
    "    else:\n",
    "        label_encoder = encod_l\n",
    "        onehot_encoder = encod_o\n",
    "    \n",
    "    integer_encoded = label_encoder.fit_transform(array)\n",
    "    print(integer_encoded)\n",
    "    \n",
    "    integer_encoded = integer_encoded.reshape(len(integer_encoded), 1)\n",
    "    onehot_encoded_y = onehot_encoder.fit_transform(integer_encoded)\n",
    "    return onehot_encoded_y,label_encoder, onehot_encoder\n"
   ]
  },
  {
   "cell_type": "code",
   "execution_count": 15,
   "metadata": {},
   "outputs": [
    {
     "name": "stdout",
     "output_type": "stream",
     "text": [
      "[ 7  0  7 ...  8  7 11]\n",
      "[ 1  7 11 ...  7  7  7]\n"
     ]
    }
   ],
   "source": [
    "y_train_encoded, label_encoder, onehot_encoder = encoding(array = y_train['anomaly_class'].to_numpy(), \n",
    "                                                          _type = 'train', \n",
    "                                                          encod_l = None, \n",
    "                                                          encod_o = None)\n",
    "\n",
    "y_test_encoded, _, _ = encoding(array = y_test['anomaly_class'].to_numpy(), \n",
    "                                _type = 'test', \n",
    "                                encod_l = label_encoder, \n",
    "                                encod_o = onehot_encoder)"
   ]
  },
  {
   "cell_type": "code",
   "execution_count": 17,
   "metadata": {},
   "outputs": [],
   "source": [
    "import pickle\n",
    "\n",
    "output = open('label_encoder.pkl', 'wb')\n",
    "pickle.dump(label_encoder, output)\n",
    "output.close()\n",
    "\n",
    "output_ = open('onehot_encoder.pkl', 'wb')\n",
    "pickle.dump(onehot_encoder, output_)\n",
    "output.close()"
   ]
  },
  {
   "cell_type": "code",
   "execution_count": 18,
   "metadata": {},
   "outputs": [],
   "source": [
    "X_train_array = X_train_array.astype('float32')\n",
    "X_test_array = X_test_array.astype('float32')"
   ]
  },
  {
   "cell_type": "code",
   "execution_count": 19,
   "metadata": {},
   "outputs": [],
   "source": [
    "X_train_array/=255\n",
    "X_test_array/=255"
   ]
  },
  {
   "cell_type": "code",
   "execution_count": 20,
   "metadata": {},
   "outputs": [],
   "source": [
    "model = Sequential()\n",
    "\n",
    "model.add(Conv2D(32, (3, 3), input_shape=(40,24,1)))\n",
    "model.add(Activation('relu'))\n",
    "BatchNormalization(axis=-1)\n",
    "model.add(Conv2D(32, (3, 3)))\n",
    "model.add(Activation('relu'))\n",
    "model.add(MaxPooling2D(pool_size=(2,2)))\n",
    "\n",
    "BatchNormalization(axis=-1)\n",
    "model.add(Conv2D(64,(3, 3)))\n",
    "model.add(Activation('relu'))\n",
    "BatchNormalization(axis=-1)\n",
    "model.add(Conv2D(64, (3, 3)))\n",
    "model.add(Activation('relu'))\n",
    "model.add(MaxPooling2D(pool_size=(2,2)))\n",
    "\n",
    "model.add(Flatten())\n",
    "# Fully connected layer\n",
    "\n",
    "BatchNormalization()\n",
    "model.add(Dense(512))\n",
    "model.add(Activation('relu'))\n",
    "BatchNormalization()\n",
    "model.add(Dropout(0.2))\n",
    "model.add(Dense(12))\n",
    "\n",
    "model.add(Activation('softmax'))"
   ]
  },
  {
   "cell_type": "code",
   "execution_count": 21,
   "metadata": {
    "scrolled": false
   },
   "outputs": [
    {
     "name": "stdout",
     "output_type": "stream",
     "text": [
      "_________________________________________________________________\n",
      "Layer (type)                 Output Shape              Param #   \n",
      "=================================================================\n",
      "conv2d_1 (Conv2D)            (None, 38, 22, 32)        320       \n",
      "_________________________________________________________________\n",
      "activation_1 (Activation)    (None, 38, 22, 32)        0         \n",
      "_________________________________________________________________\n",
      "conv2d_2 (Conv2D)            (None, 36, 20, 32)        9248      \n",
      "_________________________________________________________________\n",
      "activation_2 (Activation)    (None, 36, 20, 32)        0         \n",
      "_________________________________________________________________\n",
      "max_pooling2d_1 (MaxPooling2 (None, 18, 10, 32)        0         \n",
      "_________________________________________________________________\n",
      "conv2d_3 (Conv2D)            (None, 16, 8, 64)         18496     \n",
      "_________________________________________________________________\n",
      "activation_3 (Activation)    (None, 16, 8, 64)         0         \n",
      "_________________________________________________________________\n",
      "conv2d_4 (Conv2D)            (None, 14, 6, 64)         36928     \n",
      "_________________________________________________________________\n",
      "activation_4 (Activation)    (None, 14, 6, 64)         0         \n",
      "_________________________________________________________________\n",
      "max_pooling2d_2 (MaxPooling2 (None, 7, 3, 64)          0         \n",
      "_________________________________________________________________\n",
      "flatten_1 (Flatten)          (None, 1344)              0         \n",
      "_________________________________________________________________\n",
      "dense_1 (Dense)              (None, 512)               688640    \n",
      "_________________________________________________________________\n",
      "activation_5 (Activation)    (None, 512)               0         \n",
      "_________________________________________________________________\n",
      "dropout_1 (Dropout)          (None, 512)               0         \n",
      "_________________________________________________________________\n",
      "dense_2 (Dense)              (None, 12)                6156      \n",
      "_________________________________________________________________\n",
      "activation_6 (Activation)    (None, 12)                0         \n",
      "=================================================================\n",
      "Total params: 759,788\n",
      "Trainable params: 759,788\n",
      "Non-trainable params: 0\n",
      "_________________________________________________________________\n"
     ]
    }
   ],
   "source": [
    "model.summary()"
   ]
  },
  {
   "cell_type": "code",
   "execution_count": 22,
   "metadata": {},
   "outputs": [],
   "source": [
    "model.compile(loss='categorical_crossentropy', optimizer=Adam(), metrics=['accuracy'])"
   ]
  },
  {
   "cell_type": "code",
   "execution_count": 23,
   "metadata": {},
   "outputs": [],
   "source": [
    "gen = ImageDataGenerator()\n",
    "\n",
    "test_gen = ImageDataGenerator()"
   ]
  },
  {
   "cell_type": "code",
   "execution_count": 24,
   "metadata": {},
   "outputs": [],
   "source": [
    "train_generator = gen.flow(X_train_array, y_train_encoded, batch_size=64)\n",
    "test_generator = test_gen.flow(X_test_array, y_test_encoded, batch_size=64)"
   ]
  },
  {
   "cell_type": "code",
   "execution_count": 25,
   "metadata": {},
   "outputs": [
    {
     "name": "stdout",
     "output_type": "stream",
     "text": [
      "Epoch 1/10\n",
      "100/100 [==============================] - 348s 3s/step - loss: 1.8473 - acc: 0.4958 - val_loss: 1.7682 - val_acc: 0.5009\n",
      "Epoch 2/10\n",
      "100/100 [==============================] - 311s 3s/step - loss: 1.7495 - acc: 0.5083 - val_loss: 1.7734 - val_acc: 0.5009\n",
      "Epoch 3/10\n",
      "100/100 [==============================] - 311s 3s/step - loss: 1.7720 - acc: 0.4924 - val_loss: 1.7515 - val_acc: 0.5009\n",
      "Epoch 4/10\n",
      "100/100 [==============================] - 343s 3s/step - loss: 1.7368 - acc: 0.5075 - val_loss: 1.7405 - val_acc: 0.5009\n",
      "Epoch 5/10\n",
      "100/100 [==============================] - 335s 3s/step - loss: 1.7428 - acc: 0.4944 - val_loss: 1.7470 - val_acc: 0.5009\n",
      "Epoch 6/10\n",
      "100/100 [==============================] - 305s 3s/step - loss: 1.7327 - acc: 0.5002 - val_loss: 1.7420 - val_acc: 0.5009\n",
      "Epoch 7/10\n",
      "100/100 [==============================] - 326s 3s/step - loss: 1.7333 - acc: 0.4998 - val_loss: 1.7116 - val_acc: 0.5011\n",
      "Epoch 8/10\n",
      "100/100 [==============================] - 379s 4s/step - loss: 1.7062 - acc: 0.5075 - val_loss: 1.7088 - val_acc: 0.5019\n",
      "Epoch 9/10\n",
      "100/100 [==============================] - 339s 3s/step - loss: 1.7165 - acc: 0.4916 - val_loss: 1.6976 - val_acc: 0.5016\n",
      "Epoch 10/10\n",
      "100/100 [==============================] - 340s 3s/step - loss: 1.6627 - acc: 0.5106 - val_loss: 1.6675 - val_acc: 0.5014\n"
     ]
    }
   ],
   "source": [
    "history = model.fit_generator(train_generator, steps_per_epoch=100, epochs=10, \n",
    "                    validation_data=test_generator, validation_steps=100)"
   ]
  },
  {
   "cell_type": "code",
   "execution_count": 26,
   "metadata": {},
   "outputs": [],
   "source": [
    "model.save('JUA_baseline.h5')"
   ]
  },
  {
   "cell_type": "code",
   "execution_count": 27,
   "metadata": {},
   "outputs": [],
   "source": [
    "pd.DataFrame.from_dict(history.history).to_csv('history.csv',index=False)"
   ]
  },
  {
   "cell_type": "code",
   "execution_count": 28,
   "metadata": {},
   "outputs": [
    {
     "data": {
      "text/plain": [
       "Text(0, 0.5, 'Training/Validation loss')"
      ]
     },
     "execution_count": 28,
     "metadata": {},
     "output_type": "execute_result"
    },
    {
     "data": {
      "image/png": "[encoded data removed]",
      "text/plain": [
       "<Figure size 720x360 with 1 Axes>"
      ]
     },
     "metadata": {
      "needs_background": "light"
     },
     "output_type": "display_data"
    }
   ],
   "source": [
    "losses = pd.read_csv('./history.csv')\n",
    "losses[['loss','val_loss']].plot(grid=True,figsize=(10,5))\n",
    "plt.title('Variation of Loss wrt Epoch')\n",
    "plt.xlabel('epoch')\n",
    "plt.ylabel('Training/Validation loss')"
   ]
  },
  {
   "cell_type": "code",
   "execution_count": 29,
   "metadata": {},
   "outputs": [
    {
     "data": {
      "text/plain": [
       "Text(0, 0.5, 'Training/Validation accuracy')"
      ]
     },
     "execution_count": 29,
     "metadata": {},
     "output_type": "execute_result"
    },
    {
     "data": {
      "image/png": "[encoded data removed]",
      "text/plain": [
       "<Figure size 720x360 with 1 Axes>"
      ]
     },
     "metadata": {
      "needs_background": "light"
     },
     "output_type": "display_data"
    }
   ],
   "source": [
    "losses[['acc','val_acc']].plot(grid=True,figsize = (10,5))\n",
    "plt.title('Variation of accuracy wrt Epoch')\n",
    "plt.xlabel('epoch')\n",
    "plt.ylabel('Training/Validation accuracy')"
   ]
  },
  {
   "cell_type": "code",
   "execution_count": 30,
   "metadata": {},
   "outputs": [],
   "source": [
    "def prediction(test_image_path = None):\n",
    "    \n",
    "    test_image_array = []\n",
    "    \n",
    "    test_image = read_image(img_path = test_image_path)\n",
    "    \n",
    "    print(test_image.shape)\n",
    "    \n",
    "    test_image_array.append(test_image)\n",
    "    test_image_array = np.array(test_image_array)\n",
    "    \n",
    "    print(test_image_array.shape)\n",
    "    \n",
    "    test_image_array = test_image_array.astype('float32')\n",
    "    \n",
    "    test_image_array/=255\n",
    "    \n",
    "    model = keras.models.load_model('JUA_baseline.h5')\n",
    "    \n",
    "    prediction = model.predict_classes(test_image_array)\n",
    "    \n",
    "    print(np.round(model.predict_proba(test_image_array)[0][prediction][0]*100,2))\n",
    "    pickle_file = open(\"label_encoder.pkl\", \"rb\")\n",
    "    \n",
    "    label_encoder = pickle.load(pickle_file)\n",
    "    \n",
    "    prediction = label_encoder.inverse_transform(prediction)\n",
    "    \n",
    "    return prediction[0]"
   ]
  },
  {
   "cell_type": "code",
   "execution_count": 31,
   "metadata": {},
   "outputs": [
    {
     "name": "stdout",
     "output_type": "stream",
     "text": [
      "(40, 24, 1)\n",
      "(1, 40, 24, 1)\n",
      "38.56\n"
     ]
    },
    {
     "data": {
      "text/plain": [
       "'No-Anomaly'"
      ]
     },
     "execution_count": 31,
     "metadata": {},
     "output_type": "execute_result"
    }
   ],
   "source": [
    "prediction(test_image_path = './prediction/1744.jpg')"
   ]
  },
  {
   "cell_type": "code",
   "execution_count": 32,
   "metadata": {},
   "outputs": [
    {
     "data": {
      "text/html": [
       "<div>\n",
       "<style scoped>\n",
       "    .dataframe tbody tr th:only-of-type {\n",
       "        vertical-align: middle;\n",
       "    }\n",
       "\n",
       "    .dataframe tbody tr th {\n",
       "        vertical-align: top;\n",
       "    }\n",
       "\n",
       "    .dataframe thead th {\n",
       "        text-align: right;\n",
       "    }\n",
       "</style>\n",
       "<table border=\"1\" class=\"dataframe\">\n",
       "  <thead>\n",
       "    <tr style=\"text-align: right;\">\n",
       "      <th></th>\n",
       "      <th>image_filepath</th>\n",
       "      <th>anomaly_class</th>\n",
       "    </tr>\n",
       "  </thead>\n",
       "  <tbody>\n",
       "    <tr>\n",
       "      <th>1744</th>\n",
       "      <td>images/1744.jpg</td>\n",
       "      <td>Diode</td>\n",
       "    </tr>\n",
       "  </tbody>\n",
       "</table>\n",
       "</div>"
      ],
      "text/plain": [
       "       image_filepath anomaly_class\n",
       "1744  images/1744.jpg         Diode"
      ]
     },
     "execution_count": 32,
     "metadata": {},
     "output_type": "execute_result"
    }
   ],
   "source": [
    "label_df[label_df['image_filepath']=='images/1744.jpg']"
   ]
  },
  {
   "cell_type": "code",
   "execution_count": null,
   "metadata": {},
   "outputs": [],
   "source": []
  }
 ],
 "metadata": {
  "kernelspec": {
   "display_name": "Python 3",
   "language": "python",
   "name": "python3"
  },
  "language_info": {
   "codemirror_mode": {
    "name": "ipython",
    "version": 3
   },
   "file_extension": ".py",
   "mimetype": "text/x-python",
   "name": "python",
   "nbconvert_exporter": "python",
   "pygments_lexer": "ipython3",
   "version": "3.6.5"
  }
 },
 "nbformat": 4,
 "nbformat_minor": 4
}
